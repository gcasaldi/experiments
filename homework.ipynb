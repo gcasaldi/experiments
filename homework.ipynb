{
  "nbformat": 4,
  "nbformat_minor": 0,
  "metadata": {
    "colab": {
      "provenance": [],
      "authorship_tag": "ABX9TyPe585Chh27FP+gUWFKgGia",
      "include_colab_link": true
    },
    "kernelspec": {
      "name": "python3",
      "display_name": "Python 3"
    },
    "language_info": {
      "name": "python"
    }
  },
  "cells": [
    {
      "cell_type": "markdown",
      "metadata": {
        "id": "view-in-github",
        "colab_type": "text"
      },
      "source": [
        "<a href=\"https://colab.research.google.com/github/gcasaldi/experiments/blob/main/homework.ipynb\" target=\"_parent\"><img src=\"https://colab.research.google.com/assets/colab-badge.svg\" alt=\"Open In Colab\"/></a>"
      ]
    },
    {
      "cell_type": "code",
      "execution_count": 1,
      "metadata": {
        "colab": {
          "base_uri": "https://localhost:8080/"
        },
        "id": "UVfxfmJALgd8",
        "outputId": "142f9b68-33d1-473b-e9c7-16fcb1e763b8"
      },
      "outputs": [
        {
          "output_type": "stream",
          "name": "stdout",
          "text": [
            "Sx nella nuova base:\n",
            "[[ 5.00000000e-01  5.07326818e-18]\n",
            " [-5.07326818e-18 -5.00000000e-01]]\n",
            "\n",
            "Sy nella nuova base:\n",
            "[[0.+5.07326818e-18j 0.+5.00000000e-01j]\n",
            " [0.-5.00000000e-01j 0.-5.07326818e-18j]]\n",
            "\n",
            "Sz nella nuova base:\n",
            "[[5.07326818e-18 5.00000000e-01]\n",
            " [5.00000000e-01 5.07326818e-18]]\n"
          ]
        }
      ],
      "source": [
        "import numpy as np\n",
        "\n",
        "# Definiamo le matrici di spin nella base |z+>, |z->\n",
        "ħ = 1  # Consideriamo ħ=1 per semplicità\n",
        "Sx = (ħ / 2) * np.array([[0, 1], [1, 0]])\n",
        "Sy = (ħ / 2) * np.array([[0, -1j], [1j, 0]])\n",
        "Sz = (ħ / 2) * np.array([[1, 0], [0, -1]])\n",
        "\n",
        "# Definizione degli autostati di Sx nella base di Sz\n",
        "x_plus = (1 / np.sqrt(2)) * np.array([1, 1])\n",
        "x_minus = (1 / np.sqrt(2)) * np.array([1, -1])\n",
        "\n",
        "# Costruzione della matrice di cambiamento di base\n",
        "U = np.column_stack((x_plus, x_minus))\n",
        "U_inv = np.linalg.inv(U)  # Inversa di U\n",
        "\n",
        "# Trasformiamo le matrici degli operatori di spin nella nuova base\n",
        "Sx_new = U_inv @ Sx @ U\n",
        "Sy_new = U_inv @ Sy @ U\n",
        "Sz_new = U_inv @ Sz @ U\n",
        "\n",
        "# Stampiamo i risultati\n",
        "print(\"Sx nella nuova base:\")\n",
        "print(Sx_new)\n",
        "print(\"\\nSy nella nuova base:\")\n",
        "print(Sy_new)\n",
        "print(\"\\nSz nella nuova base:\")\n",
        "print(Sz_new)\n"
      ]
    },
    {
      "cell_type": "code",
      "source": [
        "import numpy as np\n",
        "\n",
        "# Definizione della matrice di trasformazione unitaria U\n",
        "u11, u12, u21, u22 = 1, 2, 3, 4  # Sostituire con i valori specifici\n",
        "U = np.array([[u11, u12],\n",
        "              [u21, u22]])\n",
        "\n",
        "# Definizione della matrice di riflessione nel sistema di base φ (R_phi)\n",
        "r11_phi, r12_phi, r21_phi, r22_phi = 1, 0, 0, -1  # Sostituire con i valori specifici\n",
        "R_phi = np.array([[r11_phi, r12_phi],\n",
        "                  [r21_phi, r22_phi]])\n",
        "\n",
        "# Calcolare la matrice di riflessione nel sistema di base ψ (R_psi)\n",
        "U_inv = np.linalg.inv(U)  # Calcolare l'inversa della matrice U\n",
        "R_psi = np.dot(U, np.dot(R_phi, U_inv))  # Trasformazione di similarità\n",
        "\n",
        "# Visualizzare i risultati\n",
        "print(\"Matrice di riflessione nel sistema di base ψ (R_psi):\")\n",
        "print(R_psi)\n",
        "\n",
        "# Verifica della trasformazione di similarità: R_psi = U * R_phi * U^-1\n",
        "if np.allclose(np.dot(U, np.dot(R_phi, U_inv)), R_psi):\n",
        "    print(\"\\nLe matrici sono correlate tramite una trasformazione di similarità.\")\n",
        "else:\n",
        "    print(\"\\nLe matrici non sono correlate tramite una trasformazione di similarità.\")"
      ],
      "metadata": {
        "colab": {
          "base_uri": "https://localhost:8080/"
        },
        "id": "RzrLZhi6iNuf",
        "outputId": "49db4c13-f4ae-4f97-ca60-a8cfc080d021"
      },
      "execution_count": 2,
      "outputs": [
        {
          "output_type": "stream",
          "name": "stdout",
          "text": [
            "Matrice di riflessione nel sistema di base ψ (R_psi):\n",
            "[[ -5.   2.]\n",
            " [-12.   5.]]\n",
            "\n",
            "Le matrici sono correlate tramite una trasformazione di similarità.\n"
          ]
        }
      ]
    },
    {
      "cell_type": "code",
      "source": [],
      "metadata": {
        "colab": {
          "base_uri": "https://localhost:8080/",
          "height": 106
        },
        "id": "z2LPQMBu0hDt",
        "outputId": "b34d143c-4349-450e-e197-eea5efe965ef"
      },
      "execution_count": 10,
      "outputs": [
        {
          "output_type": "error",
          "ename": "SyntaxError",
          "evalue": "unexpected character after line continuation character (<ipython-input-10-979f475c83b0>, line 1)",
          "traceback": [
            "\u001b[0;36m  File \u001b[0;32m\"<ipython-input-10-979f475c83b0>\"\u001b[0;36m, line \u001b[0;32m1\u001b[0m\n\u001b[0;31m    \\documentclass[12pt]{article}\u001b[0m\n\u001b[0m     ^\u001b[0m\n\u001b[0;31mSyntaxError\u001b[0m\u001b[0;31m:\u001b[0m unexpected character after line continuation character\n"
          ]
        }
      ]
    }
  ]
}